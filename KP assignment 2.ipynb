{
 "cells": [
  {
   "cell_type": "code",
   "execution_count": 1,
   "id": "c3498bca",
   "metadata": {},
   "outputs": [],
   "source": [
    "import math"
   ]
  },
  {
   "cell_type": "code",
   "execution_count": 2,
   "id": "d35876a5",
   "metadata": {},
   "outputs": [
    {
     "name": "stdout",
     "output_type": "stream",
     "text": [
      "The floor of 21.6 is: 21\n"
     ]
    }
   ],
   "source": [
    "data = 21.6\n",
    "print('The floor of 21.6 is:', math.floor(data))"
   ]
  },
  {
   "cell_type": "code",
   "execution_count": 3,
   "id": "05c40b36",
   "metadata": {},
   "outputs": [
    {
     "name": "stdout",
     "output_type": "stream",
     "text": [
      "The value of PI: 3.141592653589793\n"
     ]
    }
   ],
   "source": [
    "print('The value of PI:',math.pi)"
   ]
  },
  {
   "cell_type": "code",
   "execution_count": 4,
   "id": "c128dc04",
   "metadata": {},
   "outputs": [
    {
     "name": "stdout",
     "output_type": "stream",
     "text": [
      "8.0\n"
     ]
    }
   ],
   "source": [
    "print(math.pow(2, 3))"
   ]
  },
  {
   "cell_type": "code",
   "execution_count": 5,
   "id": "65629e86",
   "metadata": {},
   "outputs": [
    {
     "name": "stdout",
     "output_type": "stream",
     "text": [
      "25\n"
     ]
    }
   ],
   "source": [
    "data = 24.3\n",
    "print(math.ceil(data))"
   ]
  },
  {
   "cell_type": "code",
   "execution_count": 6,
   "id": "fb11165e",
   "metadata": {},
   "outputs": [
    {
     "name": "stdout",
     "output_type": "stream",
     "text": [
      "The given angle is : 1.5707963267948966\n",
      "sin(x) is : 1.0\n",
      "cos(x) is : 6.123233995736766e-17\n",
      "tan(x) is : 1.633123935319537e+16\n"
     ]
    }
   ],
   "source": [
    "angleInDegree = 90\n",
    "angleInRadian = math.radians(angleInDegree)\n",
    "\n",
    "print('The given angle is :', angleInRadian)\n",
    "print('sin(x) is :', math.sin(angleInRadian))\n",
    "print('cos(x) is :', math.cos(angleInRadian))\n",
    "print('tan(x) is :', math.tan(angleInRadian))"
   ]
  },
  {
   "cell_type": "code",
   "execution_count": 7,
   "id": "c436537d",
   "metadata": {},
   "outputs": [
    {
     "name": "stdout",
     "output_type": "stream",
     "text": [
      "The given number (x) is : 0.0001\n",
      "e^x (using exp() function) is : 0.0001000050001667141\n",
      "log(fabs(x), base) is : -3.999999999999999\n"
     ]
    }
   ],
   "source": [
    "number = 1e-4\n",
    "print('The given number (x) is :', number)\n",
    "print('e^x (using exp() function) is :', math.exp(number)-1)\n",
    "print('log(fabs(x), base) is :', math.log(math.fabs(number), 10))"
   ]
  },
  {
   "cell_type": "code",
   "execution_count": 8,
   "id": "4b701984",
   "metadata": {},
   "outputs": [
    {
     "name": "stdout",
     "output_type": "stream",
     "text": [
      "The average of list values is : 2\n",
      "The maximum occurring element is : 2\n",
      "The median of list element is : 2.0\n",
      "The lower median of list element is : 2\n",
      "The higher median of list element is : 2\n",
      "The 50th percentile of data is : 2.0\n"
     ]
    }
   ],
   "source": [
    "import statistics\n",
    "\n",
    "li = [1, 2, 3, 3, 2, 2, 2, 1]\n",
    "\n",
    "print (\"The average of list values is : \",end=\"\")\n",
    "print (statistics.mean(li))\n",
    "\n",
    "print (\"The maximum occurring element is : \",end=\"\")\n",
    "print (statistics.mode(li))\n",
    "\n",
    "print (\"The median of list element is : \",end=\"\")\n",
    "print (statistics.median(li))\n",
    "\n",
    "print (\"The lower median of list element is : \",end=\"\")\n",
    "print (statistics.median_low(li))\n",
    "\n",
    "print (\"The higher median of list element is : \",end=\"\")\n",
    "print (statistics.median_high(li))\n",
    "\n",
    "print (\"The 50th percentile of data is : \",end=\"\")\n",
    "print (statistics.median_grouped(li))\n"
   ]
  },
  {
   "cell_type": "code",
   "execution_count": 9,
   "id": "acaf2708",
   "metadata": {},
   "outputs": [
    {
     "name": "stdout",
     "output_type": "stream",
     "text": [
      "[ 4.    5.    9.9   5.3   8.9   2.11 12.3  14.9 ]\n"
     ]
    }
   ],
   "source": [
    "import numpy as np\n",
    "lst = [2,3, 7.9, 3.3, 6.9, 0.11, 10.3, 12.9]\n",
    "v = np.array(lst)\n",
    "v = v + 2\n",
    "print(v)"
   ]
  },
  {
   "cell_type": "code",
   "execution_count": 10,
   "id": "48f93e60",
   "metadata": {},
   "outputs": [
    {
     "name": "stdout",
     "output_type": "stream",
     "text": [
      "[ 8.8   11.    21.78  11.66  19.58   4.642 27.06  32.78 ]\n"
     ]
    }
   ],
   "source": [
    "print(v * 2.2)"
   ]
  },
  {
   "cell_type": "code",
   "execution_count": 12,
   "id": "afb7d460",
   "metadata": {},
   "outputs": [
    {
     "name": "stdout",
     "output_type": "stream",
     "text": [
      "Adding to arrays: \n",
      "[[12. 13. 14.]\n",
      " [22. 23. 24.]\n",
      " [32. 33. 34.]]\n",
      "\n",
      "Multiplying two arrays: \n",
      "[[22. 24. 26.]\n",
      " [42. 44. 46.]\n",
      " [62. 64. 66.]]\n"
     ]
    }
   ],
   "source": [
    "A = np.array([ [11, 12, 13], [21, 22, 23], [31, 32, 33] ])\n",
    "B = np.ones((3,3))\n",
    "\n",
    "print(\"Adding to arrays: \")\n",
    "print(A + B)\n",
    "\n",
    "print(\"\\nMultiplying two arrays: \")\n",
    "print(A * (B + 1))"
   ]
  },
  {
   "cell_type": "code",
   "execution_count": 1,
   "id": "47e2bfc4",
   "metadata": {},
   "outputs": [
    {
     "name": "stdout",
     "output_type": "stream",
     "text": [
      "1000.0\n",
      "8.0\n",
      "1.0\n",
      "0.7071067811865475\n"
     ]
    }
   ],
   "source": [
    "from scipy import special\n",
    "a = special.exp10(3)\n",
    "print(a)\n",
    " \n",
    "b = special.exp2(3)\n",
    "print(b)\n",
    " \n",
    "c = special.sindg(90)\n",
    "print(c)\n",
    " \n",
    "d = special.cosdg(45)\n",
    "print(d)"
   ]
  },
  {
   "cell_type": "code",
   "execution_count": null,
   "id": "a0e881ff",
   "metadata": {},
   "outputs": [],
   "source": []
  }
 ],
 "metadata": {
  "kernelspec": {
   "display_name": "Python 3",
   "language": "python",
   "name": "python3"
  },
  "language_info": {
   "codemirror_mode": {
    "name": "ipython",
    "version": 3
   },
   "file_extension": ".py",
   "mimetype": "text/x-python",
   "name": "python",
   "nbconvert_exporter": "python",
   "pygments_lexer": "ipython3",
   "version": "3.8.8"
  }
 },
 "nbformat": 4,
 "nbformat_minor": 5
}
